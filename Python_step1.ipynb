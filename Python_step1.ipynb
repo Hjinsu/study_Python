{
  "nbformat": 4,
  "nbformat_minor": 0,
  "metadata": {
    "colab": {
      "provenance": [],
      "authorship_tag": "ABX9TyPeF2AtQ1TtsoUa6FUZDBQD",
      "include_colab_link": true
    },
    "kernelspec": {
      "name": "python3",
      "display_name": "Python 3"
    },
    "language_info": {
      "name": "python"
    }
  },
  "cells": [
    {
      "cell_type": "markdown",
      "metadata": {
        "id": "view-in-github",
        "colab_type": "text"
      },
      "source": [
        "<a href=\"https://colab.research.google.com/github/Hjinsu/study_Python/blob/main/Python_step1.ipynb\" target=\"_parent\"><img src=\"https://colab.research.google.com/assets/colab-badge.svg\" alt=\"Open In Colab\"/></a>"
      ]
    },
    {
      "cell_type": "markdown",
      "source": [
        "파이썬에서 정수와 실수의 표현은 다르다.\n",
        "문자는 유니코드 기반의 문자 또는 문자열로 사용한다.\n"
      ],
      "metadata": {
        "id": "Hjl2i_jxbcyy"
      }
    },
    {
      "cell_type": "code",
      "source": [
        "a = 50000\n",
        "b = 3.1495\n",
        "\n",
        "c = 'a'\n",
        "d = \"abcd\"\n",
        "\n",
        "print(\"정수\")\n",
        "print(a)\n",
        "print(\"실수\")\n",
        "print(b)\n",
        "print(\"문자\")\n",
        "print(c)\n",
        "print(\"문자열\")\n",
        "print(d)"
      ],
      "metadata": {
        "colab": {
          "base_uri": "https://localhost:8080/"
        },
        "id": "JlhWLokqb_7B",
        "outputId": "363a6a30-d384-4c87-cb1c-553755899bc1"
      },
      "execution_count": null,
      "outputs": [
        {
          "output_type": "stream",
          "name": "stdout",
          "text": [
            "정수\n",
            "50000\n",
            "\n",
            "3.1495\n",
            "a\n",
            "abcd\n"
          ]
        }
      ]
    },
    {
      "cell_type": "markdown",
      "source": [
        "연산자\n",
        "\n",
        "1. `+ : 더하기\n",
        "2. `- : 빼기\n",
        "3. `* : 곱하기\n",
        "4. `/ : 나누기\n",
        "5. `** : 거듭제곱(지수)"
      ],
      "metadata": {
        "id": "4st6fJFkcfvo"
      }
    },
    {
      "cell_type": "code",
      "source": [
        "\"\"\"파이썬 학습문제 \"\"\"\n",
        "apple = 2\n",
        "banana = 3\n",
        "cranberry = 1\n",
        "detox = (banana **2 - 4 * apple * cranberry) // apple\n",
        "\n",
        "print(detox)"
      ],
      "metadata": {
        "colab": {
          "base_uri": "https://localhost:8080/"
        },
        "id": "g0tST-xge2Gq",
        "outputId": "f7250c9b-e0d9-4acc-819f-17e5c378a7a5"
      },
      "execution_count": null,
      "outputs": [
        {
          "output_type": "stream",
          "name": "stdout",
          "text": [
            "0\n"
          ]
        }
      ]
    }
  ]
}